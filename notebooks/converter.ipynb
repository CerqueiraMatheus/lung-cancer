{
 "cells": [
  {
   "cell_type": "code",
   "execution_count": 2,
   "metadata": {},
   "outputs": [],
   "source": [
    "import os\n",
    "import pandas as pd\n",
    "from sklearn.model_selection import train_test_split"
   ]
  },
  {
   "cell_type": "code",
   "execution_count": 5,
   "metadata": {},
   "outputs": [],
   "source": [
    "annotations = pd.read_csv('../data/annotations.csv')"
   ]
  },
  {
   "cell_type": "code",
   "execution_count": 3,
   "metadata": {},
   "outputs": [],
   "source": [
    "# Get 70% of each class for training\n",
    "train, test = train_test_split(annotations, test_size=0.3, random_state=42, stratify=annotations['class'])\n",
    "\n",
    "# Get 15% of each class for testing and 15% for validating\n",
    "test, val = train_test_split(test, test_size=0.5, random_state=42, stratify=test['class'])"
   ]
  },
  {
   "cell_type": "code",
   "execution_count": 7,
   "metadata": {},
   "outputs": [],
   "source": [
    "# Create dict for mapping class names to numbers\n",
    "class_dict = {class_name: i for i, class_name in enumerate(['A', 'B', 'E', 'G'])}"
   ]
  },
  {
   "cell_type": "code",
   "execution_count": 6,
   "metadata": {},
   "outputs": [],
   "source": [
    "# Cast annotation format to YOLO format\n",
    "def pascal_voc_to_yolo(x1, y1, x2, y2):\n",
    "    return [((x2 + x1)/(2*512)), ((y2 + y1)/(2*512)), (x2 - x1)/512, (y2 - y1)/512]\n"
   ]
  },
  {
   "cell_type": "code",
   "execution_count": 7,
   "metadata": {},
   "outputs": [],
   "source": [
    "# Save annotation\n",
    "def save_annotation(row, file):\n",
    "    res = pascal_voc_to_yolo(row[2], row[3], row[4], row[5])\n",
    "    file.write(\n",
    "        f\"{class_dict[row[6]]} {res[0]} {res[1]} {res[2]} {res[3]}\\n\")\n"
   ]
  },
  {
   "cell_type": "code",
   "execution_count": 8,
   "metadata": {},
   "outputs": [],
   "source": [
    "def create_dataset_split(df, name):\n",
    "    if not os.path.exists('../data/' + name):\n",
    "        os.makedirs('../data/' + name)\n",
    "        os.makedirs('../data/' + name + '/images')\n",
    "        os.makedirs('../data/' + name + '/labels')\n",
    "\n",
    "    for line in df.values:\n",
    "        os.system(\n",
    "            'cp ../data/{}/{}.jpg ../data/{}/images/{}_{}.jpg'.format(\n",
    "                line[0], line[1], name, line[0], line[1]))\n",
    "\n",
    "        with open('../data/{}/labels/{}_{}.txt'.format(name, line[0], line[1]), 'w') as file:\n",
    "            save_annotation(line, file)\n"
   ]
  },
  {
   "cell_type": "code",
   "execution_count": 9,
   "metadata": {},
   "outputs": [],
   "source": [
    "create_dataset_split(train, 'train')\n",
    "create_dataset_split(test, 'test')\n",
    "create_dataset_split(val, 'val')"
   ]
  }
 ],
 "metadata": {
  "kernelspec": {
   "display_name": "base",
   "language": "python",
   "name": "python3"
  },
  "language_info": {
   "codemirror_mode": {
    "name": "ipython",
    "version": 3
   },
   "file_extension": ".py",
   "mimetype": "text/x-python",
   "name": "python",
   "nbconvert_exporter": "python",
   "pygments_lexer": "ipython3",
   "version": "3.10.9"
  },
  "orig_nbformat": 4
 },
 "nbformat": 4,
 "nbformat_minor": 2
}
